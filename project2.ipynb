{
  "nbformat": 4,
  "nbformat_minor": 0,
  "metadata": {
    "colab": {
      "provenance": [],
      "include_colab_link": true
    },
    "kernelspec": {
      "name": "python3",
      "display_name": "Python 3"
    },
    "language_info": {
      "name": "python"
    }
  },
  "cells": [
    {
      "cell_type": "markdown",
      "metadata": {
        "id": "view-in-github",
        "colab_type": "text"
      },
      "source": [
        "<a href=\"https://colab.research.google.com/github/aynokt/q-macro/blob/main/project2.ipynb\" target=\"_parent\"><img src=\"https://colab.research.google.com/assets/colab-badge.svg\" alt=\"Open In Colab\"/></a>"
      ]
    },
    {
      "cell_type": "code",
      "execution_count": 1,
      "metadata": {
        "colab": {
          "base_uri": "https://localhost:8080/"
        },
        "id": "EjhfD-rszB3I",
        "outputId": "19148da8-8e5e-4b66-e205-a99b2b49657e"
      },
      "outputs": [
        {
          "output_type": "stream",
          "name": "stdout",
          "text": [
            "       Country  Growth Rate  TFP Growth  Capital Deepening  Labor Growth  TFP Share  Capital Share  Labor Share\n",
            "     Australia         1.28        0.43               1.91          0.14       0.33           0.60         0.06\n",
            "       Austria         1.04       -0.02               1.94          0.45      -0.02           0.76         0.26\n",
            "       Belgium         0.95       -0.14               2.10          0.46      -0.14           0.85         0.30\n",
            "        Canada         0.98        0.04               1.96          0.42       0.04           0.67         0.29\n",
            "       Denmark         1.36        0.24               2.19          0.51       0.18           0.58         0.24\n",
            "       Finland         1.45        0.40               1.72          0.58       0.28           0.48         0.24\n",
            "        France         0.91       -0.04               1.69          0.49      -0.04           0.71         0.33\n",
            "       Germany         1.04        0.28               1.68          0.24       0.27           0.58         0.15\n",
            "        Greece         0.73       -0.45               1.64          0.74      -0.62           1.08         0.53\n",
            "       Iceland         1.75        0.45               2.19          0.75       0.26           0.48         0.26\n",
            "       Ireland         3.17        0.96               3.73          0.53       0.30           0.62         0.08\n",
            "         Italy         0.31       -0.78               1.48          0.74      -2.56           2.30         1.26\n",
            "         Japan         0.71       -0.34               1.90          0.43      -0.48           1.14         0.34\n",
            "   Netherlands         0.90        0.08               1.43          0.43       0.09           0.61         0.29\n",
            "   New Zealand         1.21        0.22               2.00          0.16       0.18           0.74         0.07\n",
            "        Norway         1.16        0.08               1.76          0.45       0.07           0.73         0.20\n",
            "      Portugal         1.09       -0.46               2.67          0.90      -0.43           0.91         0.51\n",
            "         Spain         0.83       -0.36               1.91          0.71      -0.43           0.91         0.52\n",
            "        Sweden         1.84        0.79               1.91          0.32       0.43           0.48         0.09\n",
            "   Switzerland         0.72       -0.09               2.02          0.23      -0.12           0.90         0.22\n",
            "United Kingdom         1.26        0.17               1.81          0.57       0.14           0.60         0.26\n",
            " United States         1.60        0.61               2.06          0.30       0.38           0.51         0.11\n",
            "       Average         1.20        0.09               1.99          0.48      -0.09           0.78         0.30\n"
          ]
        }
      ],
      "source": [
        "import pandas as pd\n",
        "import numpy as np\n",
        "\n",
        "\n",
        "def calculate_average_growth_rate(data, start_year, end_year, column):\n",
        "    data = data.loc[(data['year'] >= start_year) & (data['year'] <= end_year)]\n",
        "    growth_rate = (data[column].iloc[-1] / data[column].iloc[0]) ** (1 / (end_year - start_year)) - 1\n",
        "    return growth_rate * 100\n",
        "\n",
        "# Load data\n",
        "pwt1001 = pd.read_stata('https://dataverse.nl/api/access/datafile/354098')\n",
        "\n",
        "# Filter and select relevant columns\n",
        "countries = ['Australia', 'Austria', 'Belgium', 'Canada', 'Denmark', 'Finland', 'France', 'Germany', 'Greece', 'Iceland', 'Ireland', 'Italy', 'Japan', 'Netherlands', 'New Zealand', 'Norway', 'Portugal', 'Spain','Sweden', 'Switzerland', 'United Kingdom', 'United States']\n",
        "data = pwt1001.loc[pwt1001['country'].isin(countries)][['year', 'country', 'countrycode', 'rgdpna', 'rkna', 'pop', 'emp', 'avh', 'labsh', 'rtfpna', 'hc']]\n",
        "data = data.loc[(data['year'] >= 1990) & (data['year'] <= 2019)].dropna()\n",
        "\n",
        "# Calculate additional variables\n",
        "data['alpha'] = 1 - data['labsh']\n",
        "data['y_n'] = data['rgdpna'] / data['emp']\n",
        "data['capital_per_worker'] = data['rkna'] / data['emp']\n",
        "data['human_capital_per_worker'] = data['hc']\n",
        "data['hours_per_worker'] = data['avh']\n",
        "\n",
        "# Calculate average growth rates for each country\n",
        "results = []\n",
        "for country in countries:\n",
        "    country_data = data[data['country'] == country]\n",
        "    alpha = country_data['alpha'].mean()\n",
        "    gdp_growth = calculate_average_growth_rate(country_data, 1990, 2019, 'y_n')\n",
        "    capital_deepening = calculate_average_growth_rate(country_data, 1990, 2019, 'capital_per_worker')\n",
        "    hc_growth = calculate_average_growth_rate(country_data, 1990, 2019, 'human_capital_per_worker')\n",
        "    tfp_growth = gdp_growth - alpha * capital_deepening - (1 - alpha) * hc_growth\n",
        "\n",
        "    results.append({\n",
        "        'Country': country,\n",
        "        'Growth Rate': gdp_growth,\n",
        "        'TFP Growth': tfp_growth,\n",
        "        'Capital Deepening': capital_deepening,\n",
        "        'Labor Growth': hc_growth,\n",
        "        'TFP Share': tfp_growth / gdp_growth if gdp_growth != 0 else np.nan,\n",
        "        'Capital Share': (alpha * capital_deepening) / gdp_growth if gdp_growth != 0 else np.nan,\n",
        "        'Labor Share': ((1 - alpha) * hc_growth) / gdp_growth if gdp_growth != 0 else np.nan\n",
        "    })\n",
        "\n",
        "# Create a DataFrame from the results\n",
        "growth_accounting_table = pd.DataFrame(results)\n",
        "\n",
        "# Calculate the average values for each column\n",
        "average_values = {\n",
        "    'Country': 'Average',\n",
        "    'Growth Rate': growth_accounting_table['Growth Rate'].mean(),\n",
        "    'TFP Growth': growth_accounting_table['TFP Growth'].mean(),\n",
        "    'Capital Deepening': growth_accounting_table['Capital Deepening'].mean(),\n",
        "    'Labor Growth': growth_accounting_table['Labor Growth'].mean(),\n",
        "    'TFP Share': growth_accounting_table['TFP Share'].mean(),\n",
        "    'Capital Share': growth_accounting_table['Capital Share'].mean(),\n",
        "    'Labor Share': growth_accounting_table['Labor Share'].mean(),\n",
        "}\n",
        "\n",
        "# Convert the average_values dictionary to a DataFrame\n",
        "average_values_df = pd.DataFrame([average_values])\n",
        "\n",
        "# Concatenate the average_values_df with the growth_accounting_table\n",
        "growth_accounting_table = pd.concat([growth_accounting_table, average_values_df], ignore_index=True)\n",
        "\n",
        "# Display the updated table\n",
        "print(growth_accounting_table.to_string(index=False, float_format='{:.2f}'.format))\n"
      ]
    }
  ]
}