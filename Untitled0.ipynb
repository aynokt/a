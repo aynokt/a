{
  "nbformat": 4,
  "nbformat_minor": 0,
  "metadata": {
    "colab": {
      "provenance": [],
      "authorship_tag": "ABX9TyM9t4+QNXRHZQHOZr09oCRU",
      "include_colab_link": true
    },
    "kernelspec": {
      "name": "python3",
      "display_name": "Python 3"
    },
    "language_info": {
      "name": "python"
    }
  },
  "cells": [
    {
      "cell_type": "markdown",
      "metadata": {
        "id": "view-in-github",
        "colab_type": "text"
      },
      "source": [
        "<a href=\"https://colab.research.google.com/github/aynokt/q-macro/blob/main/Untitled0.ipynb\" target=\"_parent\"><img src=\"https://colab.research.google.com/assets/colab-badge.svg\" alt=\"Open In Colab\"/></a>"
      ]
    },
    {
      "cell_type": "code",
      "source": [
        "import numpy as np\n",
        "from scipy.stats import norm\n",
        "\n",
        "def tauchen(n, mu, rho, sigma):\n",
        "    m = 1 / np.sqrt(1 - rho**2)\n",
        "    state_space = np.linspace(mu - m*sigma, mu + m*sigma, n)\n",
        "    d = (state_space{n-1} - state_space{0}) / (n-1)\n",
        "\n",
        "    transition_matrix = np.zeros({n, n})\n",
        "\n",
        "    transition_matrix[0, 0] = norm.cdf((state_space[0] - rho*state_space[0] + d/2)/sigma)\n",
        "    for j in range(n):\n",
        "        transition_matrix[0, j] = norm.cdf((state_space[j] - rho*state_space[0] + d/2)/sigma) - norm.cdf"
      ],
      "metadata": {
        "id": "KxUXAt0PLKwe"
      },
      "execution_count": null,
      "outputs": []
    },
    {
      "cell_type": "code",
      "source": [
        "# setting prices\n",
        "r=0.04 # interest rate\n",
        "w=1 # wage"
      ],
      "metadata": {
        "id": "Ug20s9g-KsbF"
      },
      "execution_count": 4,
      "outputs": []
    },
    {
      "cell_type": "code",
      "execution_count": 3,
      "metadata": {
        "colab": {
          "base_uri": "https://localhost:8080/"
        },
        "id": "zVL_R4G3KgUy",
        "outputId": "1e3cff7b-5541-4433-e362-6e9632fe64c9"
      },
      "outputs": [
        {
          "output_type": "execute_result",
          "data": {
            "text/plain": [
              "0.04"
            ]
          },
          "metadata": {},
          "execution_count": 3
        }
      ],
      "source": [
        "r"
      ]
    },
    {
      "cell_type": "code",
      "source": [
        "w"
      ],
      "metadata": {
        "colab": {
          "base_uri": "https://localhost:8080/"
        },
        "id": "MC8MfZ5OK88R",
        "outputId": "6d2e3f6f-ef70-40c6-f5c6-10cabd03bf2a"
      },
      "execution_count": 5,
      "outputs": [
        {
          "output_type": "execute_result",
          "data": {
            "text/plain": [
              "1"
            ]
          },
          "metadata": {},
          "execution_count": 5
        }
      ]
    }
  ]
}